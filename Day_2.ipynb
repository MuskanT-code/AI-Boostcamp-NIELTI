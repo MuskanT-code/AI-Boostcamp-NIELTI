{
  "nbformat": 4,
  "nbformat_minor": 0,
  "metadata": {
    "colab": {
      "provenance": [],
      "authorship_tag": "ABX9TyNN8IFncfC7EAOgH830VSWj",
      "include_colab_link": true
    },
    "kernelspec": {
      "name": "python3",
      "display_name": "Python 3"
    },
    "language_info": {
      "name": "python"
    }
  },
  "cells": [
    {
      "cell_type": "markdown",
      "metadata": {
        "id": "view-in-github",
        "colab_type": "text"
      },
      "source": [
        "<a href=\"https://colab.research.google.com/github/MuskanT-code/AI-Boostcamp-NIELTI/blob/main/Day_2.ipynb\" target=\"_parent\"><img src=\"https://colab.research.google.com/assets/colab-badge.svg\" alt=\"Open In Colab\"/></a>"
      ]
    },
    {
      "cell_type": "code",
      "execution_count": 1,
      "metadata": {
        "colab": {
          "base_uri": "https://localhost:8080/"
        },
        "id": "2zpDtLYVO3Qh",
        "outputId": "f674b9fc-210f-4d0e-d941-34df924d9371"
      },
      "outputs": [
        {
          "output_type": "stream",
          "name": "stdout",
          "text": [
            "Hello World!\n"
          ]
        }
      ],
      "source": [
        "print(\"Hello World!\")"
      ]
    },
    {
      "cell_type": "code",
      "source": [
        "a = int(input(\"Enter first number: \"))\n",
        "b = int(input(\"Enter second number: \"))\n",
        "\n",
        "print(\"The sum is:\", a + b)\n"
      ],
      "metadata": {
        "colab": {
          "base_uri": "https://localhost:8080/"
        },
        "id": "tOLD75ClSdx2",
        "outputId": "6d39a25c-0cf4-454d-9ede-3e29261e6362"
      },
      "execution_count": 2,
      "outputs": [
        {
          "output_type": "stream",
          "name": "stdout",
          "text": [
            "Enter first number: 20\n",
            "Enter second number: 22\n",
            "The sum is: 42\n"
          ]
        }
      ]
    },
    {
      "cell_type": "code",
      "source": [
        "# Take the first number as input from the user\n",
        "num1 = int(input(\"Enter first number: \"))\n",
        "\n",
        "# Take the second number as input from the user\n",
        "num2 = int(input(\"Enter second number: \"))\n",
        "\n",
        "# Calculate the product of the two numbers\n",
        "product = num1 * num2\n",
        "\n",
        "# Print the product\n",
        "print(\"The product is:\", product)\n"
      ],
      "metadata": {
        "colab": {
          "base_uri": "https://localhost:8080/"
        },
        "id": "KSsWSRiATIQ2",
        "outputId": "d0a597cd-825e-478e-b34c-2fbb46ecfa3c"
      },
      "execution_count": 3,
      "outputs": [
        {
          "output_type": "stream",
          "name": "stdout",
          "text": [
            "Enter first number: 22\n",
            "Enter second number: 3\n",
            "The product is: 66\n"
          ]
        }
      ]
    }
  ]
}